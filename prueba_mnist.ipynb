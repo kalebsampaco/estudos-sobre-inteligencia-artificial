{
  "nbformat": 4,
  "nbformat_minor": 0,
  "metadata": {
    "colab": {
      "name": "prueba mnist.ipynb",
      "provenance": [],
      "authorship_tag": "ABX9TyPtJQM3vDjYNHEn24UEw6+/",
      "include_colab_link": true
    },
    "kernelspec": {
      "name": "python3",
      "display_name": "Python 3"
    },
    "accelerator": "GPU"
  },
  "cells": [
    {
      "cell_type": "markdown",
      "metadata": {
        "id": "view-in-github",
        "colab_type": "text"
      },
      "source": [
        "<a href=\"https://colab.research.google.com/github/kalebsampaco/estudos-sobre-inteligencia-artificial/blob/master/prueba_mnist.ipynb\" target=\"_parent\"><img src=\"https://colab.research.google.com/assets/colab-badge.svg\" alt=\"Open In Colab\"/></a>"
      ]
    },
    {
      "cell_type": "code",
      "metadata": {
        "id": "Xe6x6bKP_g0l",
        "colab_type": "code",
        "colab": {
          "base_uri": "https://localhost:8080/",
          "height": 34
        },
        "outputId": "3635db88-53bc-4e05-ff7d-832f500d00cd"
      },
      "source": [
        "import tensorflow as tf\n",
        "import keras\n",
        "import numpy as np\n",
        "tf.test.gpu_device_name()\n",
        "from keras.datasets import mnist\n",
        "from keras.models import Sequential\n",
        "from keras.layers import Dense,Flatten\n",
        "from keras import backend as K"
      ],
      "execution_count": 7,
      "outputs": [
        {
          "output_type": "stream",
          "text": [
            "Using TensorFlow backend.\n"
          ],
          "name": "stderr"
        }
      ]
    },
    {
      "cell_type": "code",
      "metadata": {
        "id": "XNmQsrNBKQBq",
        "colab_type": "code",
        "colab": {}
      },
      "source": [
        ""
      ],
      "execution_count": 0,
      "outputs": []
    },
    {
      "cell_type": "code",
      "metadata": {
        "id": "TZIoKVNZAS_U",
        "colab_type": "code",
        "outputId": "dac601b0-b93b-476a-cb1a-5c4731e01b76",
        "colab": {
          "base_uri": "https://localhost:8080/",
          "height": 700
        }
      },
      "source": [
        "batch_size=100\n",
        "num_classes=10\n",
        "epochs=10\n",
        "filas, columnas=28,28\n",
        "(xt,yt), (xtest,ytest)=mnist.load_data()\n",
        "\n",
        "xt=xt.reshape(xt.shape[0],filas,columnas,1)\n",
        "xtest=xtest.reshape(xtest.shape[0], filas,columnas,1)\n",
        "\n",
        "xt=xt.astype('float32')\n",
        "xtest=xtest.astype('float32')\n",
        "\n",
        "xt=xt/255\n",
        "xtest=xtest/255\n",
        "\n",
        "yt=keras.utils.to_categorical(yt,num_classes)\n",
        "ytest=keras.utils.to_categorical(ytest,num_classes)\n",
        "\n",
        "modelo=Sequential()\n",
        "modelo.add(Flatten(input_shape=(28,28,1)))\n",
        "modelo.add(Dense(68,activation='relu'))\n",
        "modelo.add(Dense(20,activation='relu'))\n",
        "modelo.add(Dense(num_classes,activation='softmax'))\n",
        "modelo.summary()\n",
        "\n",
        "modelo.compile(loss=keras.losses.categorical_crossentropy,optimizer=keras.optimizers.Adam(),metrics=['categorical_accuracy'])\n",
        "\n",
        "modelo.fit(xt,yt,batch_size=batch_size,epochs=epochs,verbose=1,validation_data=(xtest,ytest))\n",
        "\n",
        "puntuacion=modelo.evaluate(xtest,ytest, verbose=1)\n",
        "\n",
        "print(puntuacion)\n"
      ],
      "execution_count": 9,
      "outputs": [
        {
          "output_type": "stream",
          "text": [
            "Model: \"sequential_2\"\n",
            "_________________________________________________________________\n",
            "Layer (type)                 Output Shape              Param #   \n",
            "=================================================================\n",
            "flatten_2 (Flatten)          (None, 784)               0         \n",
            "_________________________________________________________________\n",
            "dense_4 (Dense)              (None, 68)                53380     \n",
            "_________________________________________________________________\n",
            "dense_5 (Dense)              (None, 20)                1380      \n",
            "_________________________________________________________________\n",
            "dense_6 (Dense)              (None, 10)                210       \n",
            "=================================================================\n",
            "Total params: 54,970\n",
            "Trainable params: 54,970\n",
            "Non-trainable params: 0\n",
            "_________________________________________________________________\n",
            "Train on 60000 samples, validate on 10000 samples\n",
            "Epoch 1/10\n",
            "60000/60000 [==============================] - 2s 35us/step - loss: 0.4215 - categorical_accuracy: 0.8752 - val_loss: 0.2050 - val_categorical_accuracy: 0.9405\n",
            "Epoch 2/10\n",
            "60000/60000 [==============================] - 2s 34us/step - loss: 0.1806 - categorical_accuracy: 0.9480 - val_loss: 0.1462 - val_categorical_accuracy: 0.9577\n",
            "Epoch 3/10\n",
            "60000/60000 [==============================] - 2s 33us/step - loss: 0.1305 - categorical_accuracy: 0.9614 - val_loss: 0.1207 - val_categorical_accuracy: 0.9646\n",
            "Epoch 4/10\n",
            "60000/60000 [==============================] - 2s 33us/step - loss: 0.1041 - categorical_accuracy: 0.9699 - val_loss: 0.1139 - val_categorical_accuracy: 0.9657\n",
            "Epoch 5/10\n",
            "60000/60000 [==============================] - 2s 33us/step - loss: 0.0880 - categorical_accuracy: 0.9734 - val_loss: 0.0989 - val_categorical_accuracy: 0.9705\n",
            "Epoch 6/10\n",
            "60000/60000 [==============================] - 2s 34us/step - loss: 0.0754 - categorical_accuracy: 0.9776 - val_loss: 0.0935 - val_categorical_accuracy: 0.9713\n",
            "Epoch 7/10\n",
            "60000/60000 [==============================] - 2s 33us/step - loss: 0.0640 - categorical_accuracy: 0.9810 - val_loss: 0.0953 - val_categorical_accuracy: 0.9715\n",
            "Epoch 8/10\n",
            "60000/60000 [==============================] - 2s 33us/step - loss: 0.0570 - categorical_accuracy: 0.9829 - val_loss: 0.0896 - val_categorical_accuracy: 0.9732\n",
            "Epoch 9/10\n",
            "60000/60000 [==============================] - 2s 33us/step - loss: 0.0483 - categorical_accuracy: 0.9855 - val_loss: 0.0900 - val_categorical_accuracy: 0.9720\n",
            "Epoch 10/10\n",
            "60000/60000 [==============================] - 2s 34us/step - loss: 0.0430 - categorical_accuracy: 0.9868 - val_loss: 0.0983 - val_categorical_accuracy: 0.9725\n",
            "10000/10000 [==============================] - 0s 49us/step\n",
            "[0.09825847770411056, 0.9725000262260437]\n"
          ],
          "name": "stdout"
        }
      ]
    },
    {
      "cell_type": "code",
      "metadata": {
        "id": "KGSCXpkfcoI4",
        "colab_type": "code",
        "colab": {}
      },
      "source": [
        ""
      ],
      "execution_count": 0,
      "outputs": []
    },
    {
      "cell_type": "code",
      "metadata": {
        "id": "mjqXydsHc5WI",
        "colab_type": "code",
        "colab": {}
      },
      "source": [
        ""
      ],
      "execution_count": 0,
      "outputs": []
    },
    {
      "cell_type": "code",
      "metadata": {
        "id": "umw8DFXLOiXH",
        "colab_type": "code",
        "colab": {}
      },
      "source": [
        ""
      ],
      "execution_count": 0,
      "outputs": []
    }
  ]
}